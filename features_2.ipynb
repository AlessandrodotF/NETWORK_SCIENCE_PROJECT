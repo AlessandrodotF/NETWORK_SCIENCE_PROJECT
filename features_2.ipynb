{
 "cells": [
  {
   "cell_type": "markdown",
   "metadata": {
    "id": "v4bkwQoHr9i3"
   },
   "source": [
    "# Laboratory 1: setting up Twitter API"
   ]
  },
  {
   "cell_type": "markdown",
   "metadata": {
    "id": "21NaYdhRr9i7"
   },
   "source": [
    "## Set up"
   ]
  },
  {
   "cell_type": "markdown",
   "metadata": {
    "id": "Nwy6MeGur9i-"
   },
   "source": [
    "### Import libraries"
   ]
  },
  {
   "cell_type": "code",
   "execution_count": 1,
   "metadata": {
    "id": "8ge5EaEur9jA"
   },
   "outputs": [],
   "source": [
    "import os\n",
    "import requests \n",
    "import pandas as pd \n",
    "import time\n",
    "import matplotlib.pyplot as plt\n",
    "from matplotlib.ticker import MultipleLocator\n",
    "\n",
    "import numpy as np"
   ]
  },
  {
   "cell_type": "code",
   "execution_count": 7,
   "metadata": {},
   "outputs": [
    {
     "name": "stdout",
     "output_type": "stream",
     "text": [
      "/home/utente/Scrivania/Uni/NETWORK SCIENCE/degree plot\n"
     ]
    }
   ],
   "source": [
    "%cd degree\\ plot\n"
   ]
  },
  {
   "cell_type": "code",
   "execution_count": 8,
   "metadata": {
    "id": "1LlenT11t_Xp"
   },
   "outputs": [],
   "source": [
    "tweets_df = pd.read_csv(\"all_tweets.csv\")"
   ]
  },
  {
   "cell_type": "code",
   "execution_count": 9,
   "metadata": {},
   "outputs": [
    {
     "data": {
      "text/html": [
       "<div>\n",
       "<style scoped>\n",
       "    .dataframe tbody tr th:only-of-type {\n",
       "        vertical-align: middle;\n",
       "    }\n",
       "\n",
       "    .dataframe tbody tr th {\n",
       "        vertical-align: top;\n",
       "    }\n",
       "\n",
       "    .dataframe thead th {\n",
       "        text-align: right;\n",
       "    }\n",
       "</style>\n",
       "<table border=\"1\" class=\"dataframe\">\n",
       "  <thead>\n",
       "    <tr style=\"text-align: right;\">\n",
       "      <th></th>\n",
       "      <th>Datetime</th>\n",
       "      <th>Tweet Id</th>\n",
       "      <th>Text</th>\n",
       "      <th>Language</th>\n",
       "      <th>Username</th>\n",
       "      <th>hastags</th>\n",
       "    </tr>\n",
       "  </thead>\n",
       "  <tbody>\n",
       "    <tr>\n",
       "      <th>0</th>\n",
       "      <td>2022-01-25 10:48:11+00:00</td>\n",
       "      <td>1485927475142328320</td>\n",
       "      <td>A new sustainability initiative for the fashio...</td>\n",
       "      <td>en</td>\n",
       "      <td>TextileValue</td>\n",
       "      <td>['carbonfootprint', 'fashion']</td>\n",
       "    </tr>\n",
       "    <tr>\n",
       "      <th>1</th>\n",
       "      <td>2021-12-16 06:49:37+00:00</td>\n",
       "      <td>1471371921732165632</td>\n",
       "      <td>@adidas and @Allbirds have announced the first...</td>\n",
       "      <td>en</td>\n",
       "      <td>fibre2fashion</td>\n",
       "      <td>['carbonfootprint', 'adidas', 'allbirds', 'car...</td>\n",
       "    </tr>\n",
       "    <tr>\n",
       "      <th>2</th>\n",
       "      <td>2021-12-16 05:10:02+00:00</td>\n",
       "      <td>1471346859578773506</td>\n",
       "      <td>Nice feature @adidas\\n#emissions #carbonfootpr...</td>\n",
       "      <td>en</td>\n",
       "      <td>Piper_Darling</td>\n",
       "      <td>['emissions', 'carbonfootprint']</td>\n",
       "    </tr>\n",
       "    <tr>\n",
       "      <th>3</th>\n",
       "      <td>2021-11-09 09:16:19+00:00</td>\n",
       "      <td>1458000489774129154</td>\n",
       "      <td>At #CIIE2021 held in Shanghai, a running shoe ...</td>\n",
       "      <td>en</td>\n",
       "      <td>na2eastday</td>\n",
       "      <td>['CIIE2021', 'adidas', 'lowcarbon', 'carbonfoo...</td>\n",
       "    </tr>\n",
       "    <tr>\n",
       "      <th>4</th>\n",
       "      <td>2021-11-03 15:07:39+00:00</td>\n",
       "      <td>1455914579104391175</td>\n",
       "      <td>Support now: https://t.co/W9OXThIorN\\nSUPEREAR...</td>\n",
       "      <td>en</td>\n",
       "      <td>MisterDotDot</td>\n",
       "      <td>['adidas', 'carbonfootprint', 'saveEarth', 'ca...</td>\n",
       "    </tr>\n",
       "    <tr>\n",
       "      <th>...</th>\n",
       "      <td>...</td>\n",
       "      <td>...</td>\n",
       "      <td>...</td>\n",
       "      <td>...</td>\n",
       "      <td>...</td>\n",
       "      <td>...</td>\n",
       "    </tr>\n",
       "    <tr>\n",
       "      <th>150013</th>\n",
       "      <td>2009-06-24 20:42:17+00:00</td>\n",
       "      <td>2315975863</td>\n",
       "      <td>Court allows mining companies to dump waste di...</td>\n",
       "      <td>en</td>\n",
       "      <td>mvxzw</td>\n",
       "      <td>['eco', 'green', 'news', 'politics', 'supremec...</td>\n",
       "    </tr>\n",
       "    <tr>\n",
       "      <th>150014</th>\n",
       "      <td>2019-08-02 19:58:33+00:00</td>\n",
       "      <td>1157380185282379776</td>\n",
       "      <td>Prepare for #halloween with these \"October Rea...</td>\n",
       "      <td>en</td>\n",
       "      <td>GoodOmenApparel</td>\n",
       "      <td>['halloween', 'environmentallyfriendly', 'grap...</td>\n",
       "    </tr>\n",
       "    <tr>\n",
       "      <th>150015</th>\n",
       "      <td>2017-09-15 11:00:43+00:00</td>\n",
       "      <td>908646757160116224</td>\n",
       "      <td>It's an omen! First song #foofighters  new alb...</td>\n",
       "      <td>en</td>\n",
       "      <td>Londondenimnews</td>\n",
       "      <td>['foofighters', 'slowfashion']</td>\n",
       "    </tr>\n",
       "    <tr>\n",
       "      <th>150016</th>\n",
       "      <td>2015-09-13 14:20:37+00:00</td>\n",
       "      <td>643066758652383232</td>\n",
       "      <td>Could this be the year #SlowFashion goes mains...</td>\n",
       "      <td>en</td>\n",
       "      <td>FairtradeMarkUS</td>\n",
       "      <td>['SlowFashion']</td>\n",
       "    </tr>\n",
       "    <tr>\n",
       "      <th>150017</th>\n",
       "      <td>2013-07-08 14:18:54+00:00</td>\n",
       "      <td>354243195636420610</td>\n",
       "      <td>RT @byronesque_gill: #slowfashion: New #vintag...</td>\n",
       "      <td>en</td>\n",
       "      <td>OMEN_PR</td>\n",
       "      <td>['slowfashion', 'vintage']</td>\n",
       "    </tr>\n",
       "  </tbody>\n",
       "</table>\n",
       "<p>150018 rows × 6 columns</p>\n",
       "</div>"
      ],
      "text/plain": [
       "                         Datetime             Tweet Id  \\\n",
       "0       2022-01-25 10:48:11+00:00  1485927475142328320   \n",
       "1       2021-12-16 06:49:37+00:00  1471371921732165632   \n",
       "2       2021-12-16 05:10:02+00:00  1471346859578773506   \n",
       "3       2021-11-09 09:16:19+00:00  1458000489774129154   \n",
       "4       2021-11-03 15:07:39+00:00  1455914579104391175   \n",
       "...                           ...                  ...   \n",
       "150013  2009-06-24 20:42:17+00:00           2315975863   \n",
       "150014  2019-08-02 19:58:33+00:00  1157380185282379776   \n",
       "150015  2017-09-15 11:00:43+00:00   908646757160116224   \n",
       "150016  2015-09-13 14:20:37+00:00   643066758652383232   \n",
       "150017  2013-07-08 14:18:54+00:00   354243195636420610   \n",
       "\n",
       "                                                     Text Language  \\\n",
       "0       A new sustainability initiative for the fashio...       en   \n",
       "1       @adidas and @Allbirds have announced the first...       en   \n",
       "2       Nice feature @adidas\\n#emissions #carbonfootpr...       en   \n",
       "3       At #CIIE2021 held in Shanghai, a running shoe ...       en   \n",
       "4       Support now: https://t.co/W9OXThIorN\\nSUPEREAR...       en   \n",
       "...                                                   ...      ...   \n",
       "150013  Court allows mining companies to dump waste di...       en   \n",
       "150014  Prepare for #halloween with these \"October Rea...       en   \n",
       "150015  It's an omen! First song #foofighters  new alb...       en   \n",
       "150016  Could this be the year #SlowFashion goes mains...       en   \n",
       "150017  RT @byronesque_gill: #slowfashion: New #vintag...       en   \n",
       "\n",
       "               Username                                            hastags  \n",
       "0          TextileValue                     ['carbonfootprint', 'fashion']  \n",
       "1         fibre2fashion  ['carbonfootprint', 'adidas', 'allbirds', 'car...  \n",
       "2         Piper_Darling                   ['emissions', 'carbonfootprint']  \n",
       "3            na2eastday  ['CIIE2021', 'adidas', 'lowcarbon', 'carbonfoo...  \n",
       "4          MisterDotDot  ['adidas', 'carbonfootprint', 'saveEarth', 'ca...  \n",
       "...                 ...                                                ...  \n",
       "150013            mvxzw  ['eco', 'green', 'news', 'politics', 'supremec...  \n",
       "150014  GoodOmenApparel  ['halloween', 'environmentallyfriendly', 'grap...  \n",
       "150015  Londondenimnews                     ['foofighters', 'slowfashion']  \n",
       "150016  FairtradeMarkUS                                    ['SlowFashion']  \n",
       "150017          OMEN_PR                         ['slowfashion', 'vintage']  \n",
       "\n",
       "[150018 rows x 6 columns]"
      ]
     },
     "execution_count": 9,
     "metadata": {},
     "output_type": "execute_result"
    }
   ],
   "source": [
    "tweets_df"
   ]
  },
  {
   "cell_type": "markdown",
   "metadata": {
    "id": "k9ItAgz7uga9"
   },
   "source": [
    "### Preprocessing the data"
   ]
  },
  {
   "cell_type": "markdown",
   "metadata": {
    "id": "WSvM1_xzu9Uc"
   },
   "source": [
    "In our dataframe we have the entire Tweet object. Some columns that might be of particular interest to us are: \n",
    "\n",
    "*   created_at - date when Tweet was posted\n",
    "*   id/id_str - unique Tweet identifiers\n",
    "*   text - the content of the Tweet\n",
    "*   user - information about the user who posted the Tweet\n",
    "*   retweeted_status  - information about the original Tweet\n",
    "*   quote/reply/retweet/favorite count - Tweet metrics\n",
    "*   entities - hashtags, urls, user_mentions present in Tweet\n",
    "\n",
    "We can filter the dataframe and keep only columns we are interested in. You can pick which columns you'd like to keep and put them int the column_list below.\n",
    "\n"
   ]
  },
  {
   "cell_type": "code",
   "execution_count": 10,
   "metadata": {
    "id": "AZYiG40aumbk"
   },
   "outputs": [],
   "source": [
    "tweets_filtered = tweets_df.copy() #it's a good idea to work on the copy of original dataframe, so we can always go back to it if we mess something up\n"
   ]
  },
  {
   "cell_type": "code",
   "execution_count": 11,
   "metadata": {
    "id": "qQ90m-FpxM9N"
   },
   "outputs": [
    {
     "data": {
      "text/plain": [
       "Datetime    object\n",
       "Tweet Id    object\n",
       "Text        object\n",
       "Language    object\n",
       "Username    object\n",
       "hastags     object\n",
       "dtype: object"
      ]
     },
     "execution_count": 11,
     "metadata": {},
     "output_type": "execute_result"
    }
   ],
   "source": [
    "tweets_filtered.dtypes"
   ]
  },
  {
   "cell_type": "code",
   "execution_count": 12,
   "metadata": {},
   "outputs": [
    {
     "data": {
      "text/html": [
       "<div>\n",
       "<style scoped>\n",
       "    .dataframe tbody tr th:only-of-type {\n",
       "        vertical-align: middle;\n",
       "    }\n",
       "\n",
       "    .dataframe tbody tr th {\n",
       "        vertical-align: top;\n",
       "    }\n",
       "\n",
       "    .dataframe thead th {\n",
       "        text-align: right;\n",
       "    }\n",
       "</style>\n",
       "<table border=\"1\" class=\"dataframe\">\n",
       "  <thead>\n",
       "    <tr style=\"text-align: right;\">\n",
       "      <th></th>\n",
       "      <th>Datetime</th>\n",
       "      <th>Tweet Id</th>\n",
       "      <th>Text</th>\n",
       "      <th>Language</th>\n",
       "      <th>Username</th>\n",
       "      <th>hastags</th>\n",
       "    </tr>\n",
       "  </thead>\n",
       "  <tbody>\n",
       "    <tr>\n",
       "      <th>0</th>\n",
       "      <td>2022-01-25 10:48:11+00:00</td>\n",
       "      <td>1485927475142328320</td>\n",
       "      <td>A new sustainability initiative for the fashio...</td>\n",
       "      <td>en</td>\n",
       "      <td>TextileValue</td>\n",
       "      <td>['carbonfootprint', 'fashion']</td>\n",
       "    </tr>\n",
       "    <tr>\n",
       "      <th>1</th>\n",
       "      <td>2021-12-16 06:49:37+00:00</td>\n",
       "      <td>1471371921732165632</td>\n",
       "      <td>@adidas and @Allbirds have announced the first...</td>\n",
       "      <td>en</td>\n",
       "      <td>fibre2fashion</td>\n",
       "      <td>['carbonfootprint', 'adidas', 'allbirds', 'car...</td>\n",
       "    </tr>\n",
       "    <tr>\n",
       "      <th>2</th>\n",
       "      <td>2021-12-16 05:10:02+00:00</td>\n",
       "      <td>1471346859578773506</td>\n",
       "      <td>Nice feature @adidas\\n#emissions #carbonfootpr...</td>\n",
       "      <td>en</td>\n",
       "      <td>Piper_Darling</td>\n",
       "      <td>['emissions', 'carbonfootprint']</td>\n",
       "    </tr>\n",
       "    <tr>\n",
       "      <th>3</th>\n",
       "      <td>2021-11-09 09:16:19+00:00</td>\n",
       "      <td>1458000489774129154</td>\n",
       "      <td>At #CIIE2021 held in Shanghai, a running shoe ...</td>\n",
       "      <td>en</td>\n",
       "      <td>na2eastday</td>\n",
       "      <td>['CIIE2021', 'adidas', 'lowcarbon', 'carbonfoo...</td>\n",
       "    </tr>\n",
       "    <tr>\n",
       "      <th>4</th>\n",
       "      <td>2021-11-03 15:07:39+00:00</td>\n",
       "      <td>1455914579104391175</td>\n",
       "      <td>Support now: https://t.co/W9OXThIorN\\nSUPEREAR...</td>\n",
       "      <td>en</td>\n",
       "      <td>MisterDotDot</td>\n",
       "      <td>['adidas', 'carbonfootprint', 'saveEarth', 'ca...</td>\n",
       "    </tr>\n",
       "    <tr>\n",
       "      <th>...</th>\n",
       "      <td>...</td>\n",
       "      <td>...</td>\n",
       "      <td>...</td>\n",
       "      <td>...</td>\n",
       "      <td>...</td>\n",
       "      <td>...</td>\n",
       "    </tr>\n",
       "    <tr>\n",
       "      <th>150013</th>\n",
       "      <td>2009-06-24 20:42:17+00:00</td>\n",
       "      <td>2315975863</td>\n",
       "      <td>Court allows mining companies to dump waste di...</td>\n",
       "      <td>en</td>\n",
       "      <td>mvxzw</td>\n",
       "      <td>['eco', 'green', 'news', 'politics', 'supremec...</td>\n",
       "    </tr>\n",
       "    <tr>\n",
       "      <th>150014</th>\n",
       "      <td>2019-08-02 19:58:33+00:00</td>\n",
       "      <td>1157380185282379776</td>\n",
       "      <td>Prepare for #halloween with these \"October Rea...</td>\n",
       "      <td>en</td>\n",
       "      <td>GoodOmenApparel</td>\n",
       "      <td>['halloween', 'environmentallyfriendly', 'grap...</td>\n",
       "    </tr>\n",
       "    <tr>\n",
       "      <th>150015</th>\n",
       "      <td>2017-09-15 11:00:43+00:00</td>\n",
       "      <td>908646757160116224</td>\n",
       "      <td>It's an omen! First song #foofighters  new alb...</td>\n",
       "      <td>en</td>\n",
       "      <td>Londondenimnews</td>\n",
       "      <td>['foofighters', 'slowfashion']</td>\n",
       "    </tr>\n",
       "    <tr>\n",
       "      <th>150016</th>\n",
       "      <td>2015-09-13 14:20:37+00:00</td>\n",
       "      <td>643066758652383232</td>\n",
       "      <td>Could this be the year #SlowFashion goes mains...</td>\n",
       "      <td>en</td>\n",
       "      <td>FairtradeMarkUS</td>\n",
       "      <td>['SlowFashion']</td>\n",
       "    </tr>\n",
       "    <tr>\n",
       "      <th>150017</th>\n",
       "      <td>2013-07-08 14:18:54+00:00</td>\n",
       "      <td>354243195636420610</td>\n",
       "      <td>RT @byronesque_gill: #slowfashion: New #vintag...</td>\n",
       "      <td>en</td>\n",
       "      <td>OMEN_PR</td>\n",
       "      <td>['slowfashion', 'vintage']</td>\n",
       "    </tr>\n",
       "  </tbody>\n",
       "</table>\n",
       "<p>150018 rows × 6 columns</p>\n",
       "</div>"
      ],
      "text/plain": [
       "                         Datetime             Tweet Id  \\\n",
       "0       2022-01-25 10:48:11+00:00  1485927475142328320   \n",
       "1       2021-12-16 06:49:37+00:00  1471371921732165632   \n",
       "2       2021-12-16 05:10:02+00:00  1471346859578773506   \n",
       "3       2021-11-09 09:16:19+00:00  1458000489774129154   \n",
       "4       2021-11-03 15:07:39+00:00  1455914579104391175   \n",
       "...                           ...                  ...   \n",
       "150013  2009-06-24 20:42:17+00:00           2315975863   \n",
       "150014  2019-08-02 19:58:33+00:00  1157380185282379776   \n",
       "150015  2017-09-15 11:00:43+00:00   908646757160116224   \n",
       "150016  2015-09-13 14:20:37+00:00   643066758652383232   \n",
       "150017  2013-07-08 14:18:54+00:00   354243195636420610   \n",
       "\n",
       "                                                     Text Language  \\\n",
       "0       A new sustainability initiative for the fashio...       en   \n",
       "1       @adidas and @Allbirds have announced the first...       en   \n",
       "2       Nice feature @adidas\\n#emissions #carbonfootpr...       en   \n",
       "3       At #CIIE2021 held in Shanghai, a running shoe ...       en   \n",
       "4       Support now: https://t.co/W9OXThIorN\\nSUPEREAR...       en   \n",
       "...                                                   ...      ...   \n",
       "150013  Court allows mining companies to dump waste di...       en   \n",
       "150014  Prepare for #halloween with these \"October Rea...       en   \n",
       "150015  It's an omen! First song #foofighters  new alb...       en   \n",
       "150016  Could this be the year #SlowFashion goes mains...       en   \n",
       "150017  RT @byronesque_gill: #slowfashion: New #vintag...       en   \n",
       "\n",
       "               Username                                            hastags  \n",
       "0          TextileValue                     ['carbonfootprint', 'fashion']  \n",
       "1         fibre2fashion  ['carbonfootprint', 'adidas', 'allbirds', 'car...  \n",
       "2         Piper_Darling                   ['emissions', 'carbonfootprint']  \n",
       "3            na2eastday  ['CIIE2021', 'adidas', 'lowcarbon', 'carbonfoo...  \n",
       "4          MisterDotDot  ['adidas', 'carbonfootprint', 'saveEarth', 'ca...  \n",
       "...                 ...                                                ...  \n",
       "150013            mvxzw  ['eco', 'green', 'news', 'politics', 'supremec...  \n",
       "150014  GoodOmenApparel  ['halloween', 'environmentallyfriendly', 'grap...  \n",
       "150015  Londondenimnews                     ['foofighters', 'slowfashion']  \n",
       "150016  FairtradeMarkUS                                    ['SlowFashion']  \n",
       "150017          OMEN_PR                         ['slowfashion', 'vintage']  \n",
       "\n",
       "[150018 rows x 6 columns]"
      ]
     },
     "execution_count": 12,
     "metadata": {},
     "output_type": "execute_result"
    }
   ],
   "source": [
    "tweets_filtered"
   ]
  },
  {
   "cell_type": "code",
   "execution_count": 13,
   "metadata": {},
   "outputs": [],
   "source": [
    "tweets_filtered[\"Text\"] = tweets_filtered[\"Text\"].astype(\"string\")"
   ]
  },
  {
   "cell_type": "code",
   "execution_count": 14,
   "metadata": {},
   "outputs": [
    {
     "data": {
      "text/plain": [
       "Datetime    object\n",
       "Tweet Id    object\n",
       "Text        string\n",
       "Language    object\n",
       "Username    object\n",
       "hastags     object\n",
       "dtype: object"
      ]
     },
     "execution_count": 14,
     "metadata": {},
     "output_type": "execute_result"
    }
   ],
   "source": [
    "tweets_filtered.dtypes"
   ]
  },
  {
   "cell_type": "markdown",
   "metadata": {
    "id": "hPgzBUJj0SZU"
   },
   "source": [
    "## Extracting words/hashtags"
   ]
  },
  {
   "cell_type": "markdown",
   "metadata": {
    "id": "CygaLHAS0nzP"
   },
   "source": [
    "There are many ways to build networks from the data we download from Twitter.\n",
    "\n",
    "One possibility is to have a bipartite network of Tweets and words/hashtags and then observe word, hashtag or word-hashtag projections."
   ]
  },
  {
   "cell_type": "markdown",
   "metadata": {
    "id": "H1nTCbRc0-__"
   },
   "source": [
    "### Extracting words"
   ]
  },
  {
   "cell_type": "markdown",
   "metadata": {
    "id": "8pGnokgK1jma"
   },
   "source": [
    "In order to extract words, we first need to clean the Tweet text. This way we will remove punctuation, hashtags/mentions/urls (they are preserved in the entity column anyway). We will also turn all letters to lowercase.\n",
    "\n",
    "You can also consider removing stopwords, removing words that are not in the english language corpora, lematizing the words, etc. I suggest you research nltk library and its possibilities."
   ]
  },
  {
   "cell_type": "code",
   "execution_count": 116,
   "metadata": {
    "id": "y5746Mq918dG"
   },
   "outputs": [],
   "source": [
    "import re\n",
    "import string"
   ]
  },
  {
   "cell_type": "code",
   "execution_count": 117,
   "metadata": {
    "id": "Z8Nrv5jv1e5W"
   },
   "outputs": [],
   "source": [
    "def cleaner(tweet):\n",
    "    tweet = re.sub(\"@[A-Za-z0-9]+\",\"\",tweet) # remove mentions\n",
    "    tweet = re.sub(\"#[A-Za-z0-9]+\", \"\",tweet) # remove hashtags\n",
    "    tweet = re.sub(r\"(?:\\@|http?\\://|https?\\://|www)\\S+\", \"\", tweet) # remove http links\n",
    "    tweet = \" \".join(tweet.split())\n",
    "    tweet = str.lower(tweet) #to lowercase\n",
    "    table = str.maketrans(dict.fromkeys(string.punctuation)) \n",
    "    tweet = tweet.translate(table)# remove punctuation         \n",
    "    return tweet"
   ]
  },
  {
   "cell_type": "code",
   "execution_count": 118,
   "metadata": {
    "id": "fEhs-tyy2naZ"
   },
   "outputs": [],
   "source": [
    "tweets_filtered[\"clean_text\"] = tweets_filtered[\"Text\"].map(cleaner)"
   ]
  },
  {
   "cell_type": "markdown",
   "metadata": {
    "id": "I1_lSQZ85rT_"
   },
   "source": [
    "We are going to loop through the dataframe and then through the words in the clean text. We are going to add the words as keys to dictionary and use their frequencies as values."
   ]
  },
  {
   "cell_type": "code",
   "execution_count": 119,
   "metadata": {
    "id": "xiBKlJhV3d_S"
   },
   "outputs": [],
   "source": [
    "#initialize an empty dict\n",
    "unique_words = {}\n",
    "for row in tweets_filtered.clean_text:\n",
    "  for word in row.split(\" \"):\n",
    "    #if the word is encountered for the first time add to dict as key and set its value to 0\n",
    "    unique_words.setdefault(word,0)\n",
    "    #increase the value (i.e the count) of the word by 1 every time it is encountered\n",
    "    unique_words[word] += 1"
   ]
  },
  {
   "cell_type": "code",
   "execution_count": 120,
   "metadata": {
    "id": "8k7riE1z7F6r"
   },
   "outputs": [
    {
     "data": {
      "text/plain": [
       "44248"
      ]
     },
     "execution_count": 120,
     "metadata": {},
     "output_type": "execute_result"
    }
   ],
   "source": [
    "#remove blank space\n",
    "unique_words.pop(\"\")\n",
    "#remove word 'rt'\n",
    "unique_words.pop(\"rt\")"
   ]
  },
  {
   "cell_type": "markdown",
   "metadata": {
    "id": "kVYvDBQu57If"
   },
   "source": [
    "We can inspect the words as a dataframe. \n",
    "\n",
    "\n",
    "You can always save this dataframe as .csv for future reference."
   ]
  },
  {
   "cell_type": "code",
   "execution_count": 133,
   "metadata": {
    "id": "_xI5aGQM53u4"
   },
   "outputs": [
    {
     "data": {
      "text/html": [
       "<div>\n",
       "<style scoped>\n",
       "    .dataframe tbody tr th:only-of-type {\n",
       "        vertical-align: middle;\n",
       "    }\n",
       "\n",
       "    .dataframe tbody tr th {\n",
       "        vertical-align: top;\n",
       "    }\n",
       "\n",
       "    .dataframe thead th {\n",
       "        text-align: right;\n",
       "    }\n",
       "</style>\n",
       "<table border=\"1\" class=\"dataframe\">\n",
       "  <thead>\n",
       "    <tr style=\"text-align: right;\">\n",
       "      <th></th>\n",
       "      <th>Word</th>\n",
       "      <th>Count</th>\n",
       "    </tr>\n",
       "  </thead>\n",
       "  <tbody>\n",
       "    <tr>\n",
       "      <th>0</th>\n",
       "      <td>the</td>\n",
       "      <td>76453</td>\n",
       "    </tr>\n",
       "    <tr>\n",
       "      <th>1</th>\n",
       "      <td>of</td>\n",
       "      <td>62954</td>\n",
       "    </tr>\n",
       "    <tr>\n",
       "      <th>2</th>\n",
       "      <td>columbia</td>\n",
       "      <td>49229</td>\n",
       "    </tr>\n",
       "    <tr>\n",
       "      <th>3</th>\n",
       "      <td>british</td>\n",
       "      <td>45945</td>\n",
       "    </tr>\n",
       "    <tr>\n",
       "      <th>4</th>\n",
       "      <td>washington</td>\n",
       "      <td>39584</td>\n",
       "    </tr>\n",
       "    <tr>\n",
       "      <th>...</th>\n",
       "      <td>...</td>\n",
       "      <td>...</td>\n",
       "    </tr>\n",
       "    <tr>\n",
       "      <th>58530</th>\n",
       "      <td>850mi</td>\n",
       "      <td>1</td>\n",
       "    </tr>\n",
       "    <tr>\n",
       "      <th>58531</th>\n",
       "      <td>portland’s</td>\n",
       "      <td>1</td>\n",
       "    </tr>\n",
       "    <tr>\n",
       "      <th>58532</th>\n",
       "      <td>whiteturbo</td>\n",
       "      <td>1</td>\n",
       "    </tr>\n",
       "    <tr>\n",
       "      <th>58533</th>\n",
       "      <td>burlao</td>\n",
       "      <td>1</td>\n",
       "    </tr>\n",
       "    <tr>\n",
       "      <th>58534</th>\n",
       "      <td>westover</td>\n",
       "      <td>1</td>\n",
       "    </tr>\n",
       "  </tbody>\n",
       "</table>\n",
       "<p>58535 rows × 2 columns</p>\n",
       "</div>"
      ],
      "text/plain": [
       "             Word  Count\n",
       "0             the  76453\n",
       "1              of  62954\n",
       "2        columbia  49229\n",
       "3         british  45945\n",
       "4      washington  39584\n",
       "...           ...    ...\n",
       "58530       850mi      1\n",
       "58531  portland’s      1\n",
       "58532  whiteturbo      1\n",
       "58533      burlao      1\n",
       "58534    westover      1\n",
       "\n",
       "[58535 rows x 2 columns]"
      ]
     },
     "execution_count": 133,
     "metadata": {},
     "output_type": "execute_result"
    }
   ],
   "source": [
    "uw_df = pd.DataFrame.from_dict(unique_words, orient='index').reset_index()\n",
    "uw_df.rename(columns = {'index':'Word', 0:'Count'}, inplace=True)\n",
    "uw_df.sort_values(by=['Count'], ascending=False, inplace=True)\n",
    "uw_df=uw_df.reset_index().drop([\"index\"], axis=1)\n",
    "\n",
    "uw_df"
   ]
  },
  {
   "cell_type": "code",
   "execution_count": 134,
   "metadata": {},
   "outputs": [
    {
     "name": "stdout",
     "output_type": "stream",
     "text": [
      "the\n",
      "of\n",
      "columbia\n",
      "british\n",
      "washington\n"
     ]
    }
   ],
   "source": [
    "for i in range(0,5):\n",
    "    print(uw_df.Word[i])"
   ]
  },
  {
   "cell_type": "code",
   "execution_count": 135,
   "metadata": {},
   "outputs": [
    {
     "data": {
      "text/plain": [
       "Text(0.5, 1.0, 'top 5 words')"
      ]
     },
     "execution_count": 135,
     "metadata": {},
     "output_type": "execute_result"
    },
    {
     "data": {
      "image/png": "[encoded data removed]",
      "text/plain": [
       "<Figure size 1440x144 with 1 Axes>"
      ]
     },
     "metadata": {
      "needs_background": "light"
     },
     "output_type": "display_data"
    }
   ],
   "source": [
    "\n",
    "n = 5\n",
    "title= (f\"top {n} words\")\n",
    "bars = [uw_df.Word[i] for i in range(0, n)]\n",
    "values = [uw_df.Count[i] for i in range(0, n)]\n",
    "    \n",
    "y = np.arange(n)\n",
    "    \n",
    "fig, ax = plt.subplots(figsize=(20, int(n*0.5)))\n",
    "    \n",
    "ax.grid(True, color = \"#C688EB\")\n",
    "ax.barh(bars, values, color = \"#6C7EE1\") \n",
    "ax.set_axisbelow(True)\n",
    "ax.xaxis.set_minor_locator(MultipleLocator(1000))\n",
    "ax.grid(True, \"minor\", linestyle=\"--\", color = \"#C688EB\")\n",
    "ax.set_title(title, fontdict = {'fontsize' : 20})\n",
    "\n"
   ]
  },
  {
   "cell_type": "markdown",
   "metadata": {
    "id": "C4R-j-FN7Rgo"
   },
   "source": [
    "### Extracting the hashtags"
   ]
  },
  {
   "cell_type": "markdown",
   "metadata": {
    "id": "O8SfJwmf9GU2"
   },
   "source": [
    "We are going to loop through the dataframe and then through the hashtags in the entities. We are going to add the hashtags as keys to dictionary and use their frequencies as values. At the same time, we are going to save them in a list and add them to a separate column to facilitate our future work."
   ]
  },
  {
   "cell_type": "code",
   "execution_count": 16,
   "metadata": {},
   "outputs": [],
   "source": [
    "tweets_filtered = tweets_filtered.rename(columns={'hastags': 'hashtags'})"
   ]
  },
  {
   "cell_type": "code",
   "execution_count": 17,
   "metadata": {},
   "outputs": [
    {
     "data": {
      "text/html": [
       "<div>\n",
       "<style scoped>\n",
       "    .dataframe tbody tr th:only-of-type {\n",
       "        vertical-align: middle;\n",
       "    }\n",
       "\n",
       "    .dataframe tbody tr th {\n",
       "        vertical-align: top;\n",
       "    }\n",
       "\n",
       "    .dataframe thead th {\n",
       "        text-align: right;\n",
       "    }\n",
       "</style>\n",
       "<table border=\"1\" class=\"dataframe\">\n",
       "  <thead>\n",
       "    <tr style=\"text-align: right;\">\n",
       "      <th></th>\n",
       "      <th>Datetime</th>\n",
       "      <th>Tweet Id</th>\n",
       "      <th>Text</th>\n",
       "      <th>Language</th>\n",
       "      <th>Username</th>\n",
       "      <th>hashtags</th>\n",
       "    </tr>\n",
       "  </thead>\n",
       "  <tbody>\n",
       "    <tr>\n",
       "      <th>0</th>\n",
       "      <td>2022-01-25 10:48:11+00:00</td>\n",
       "      <td>1485927475142328320</td>\n",
       "      <td>A new sustainability initiative for the fashio...</td>\n",
       "      <td>en</td>\n",
       "      <td>TextileValue</td>\n",
       "      <td>['carbonfootprint', 'fashion']</td>\n",
       "    </tr>\n",
       "    <tr>\n",
       "      <th>1</th>\n",
       "      <td>2021-12-16 06:49:37+00:00</td>\n",
       "      <td>1471371921732165632</td>\n",
       "      <td>@adidas and @Allbirds have announced the first...</td>\n",
       "      <td>en</td>\n",
       "      <td>fibre2fashion</td>\n",
       "      <td>['carbonfootprint', 'adidas', 'allbirds', 'car...</td>\n",
       "    </tr>\n",
       "    <tr>\n",
       "      <th>2</th>\n",
       "      <td>2021-12-16 05:10:02+00:00</td>\n",
       "      <td>1471346859578773506</td>\n",
       "      <td>Nice feature @adidas\n",
       "#emissions #carbonfootpri...</td>\n",
       "      <td>en</td>\n",
       "      <td>Piper_Darling</td>\n",
       "      <td>['emissions', 'carbonfootprint']</td>\n",
       "    </tr>\n",
       "    <tr>\n",
       "      <th>3</th>\n",
       "      <td>2021-11-09 09:16:19+00:00</td>\n",
       "      <td>1458000489774129154</td>\n",
       "      <td>At #CIIE2021 held in Shanghai, a running shoe ...</td>\n",
       "      <td>en</td>\n",
       "      <td>na2eastday</td>\n",
       "      <td>['CIIE2021', 'adidas', 'lowcarbon', 'carbonfoo...</td>\n",
       "    </tr>\n",
       "    <tr>\n",
       "      <th>4</th>\n",
       "      <td>2021-11-03 15:07:39+00:00</td>\n",
       "      <td>1455914579104391175</td>\n",
       "      <td>Support now: https://t.co/W9OXThIorN\n",
       "SUPEREART...</td>\n",
       "      <td>en</td>\n",
       "      <td>MisterDotDot</td>\n",
       "      <td>['adidas', 'carbonfootprint', 'saveEarth', 'ca...</td>\n",
       "    </tr>\n",
       "    <tr>\n",
       "      <th>...</th>\n",
       "      <td>...</td>\n",
       "      <td>...</td>\n",
       "      <td>...</td>\n",
       "      <td>...</td>\n",
       "      <td>...</td>\n",
       "      <td>...</td>\n",
       "    </tr>\n",
       "    <tr>\n",
       "      <th>150013</th>\n",
       "      <td>2009-06-24 20:42:17+00:00</td>\n",
       "      <td>2315975863</td>\n",
       "      <td>Court allows mining companies to dump waste di...</td>\n",
       "      <td>en</td>\n",
       "      <td>mvxzw</td>\n",
       "      <td>['eco', 'green', 'news', 'politics', 'supremec...</td>\n",
       "    </tr>\n",
       "    <tr>\n",
       "      <th>150014</th>\n",
       "      <td>2019-08-02 19:58:33+00:00</td>\n",
       "      <td>1157380185282379776</td>\n",
       "      <td>Prepare for #halloween with these \"October Rea...</td>\n",
       "      <td>en</td>\n",
       "      <td>GoodOmenApparel</td>\n",
       "      <td>['halloween', 'environmentallyfriendly', 'grap...</td>\n",
       "    </tr>\n",
       "    <tr>\n",
       "      <th>150015</th>\n",
       "      <td>2017-09-15 11:00:43+00:00</td>\n",
       "      <td>908646757160116224</td>\n",
       "      <td>It's an omen! First song #foofighters  new alb...</td>\n",
       "      <td>en</td>\n",
       "      <td>Londondenimnews</td>\n",
       "      <td>['foofighters', 'slowfashion']</td>\n",
       "    </tr>\n",
       "    <tr>\n",
       "      <th>150016</th>\n",
       "      <td>2015-09-13 14:20:37+00:00</td>\n",
       "      <td>643066758652383232</td>\n",
       "      <td>Could this be the year #SlowFashion goes mains...</td>\n",
       "      <td>en</td>\n",
       "      <td>FairtradeMarkUS</td>\n",
       "      <td>['SlowFashion']</td>\n",
       "    </tr>\n",
       "    <tr>\n",
       "      <th>150017</th>\n",
       "      <td>2013-07-08 14:18:54+00:00</td>\n",
       "      <td>354243195636420610</td>\n",
       "      <td>RT @byronesque_gill: #slowfashion: New #vintag...</td>\n",
       "      <td>en</td>\n",
       "      <td>OMEN_PR</td>\n",
       "      <td>['slowfashion', 'vintage']</td>\n",
       "    </tr>\n",
       "  </tbody>\n",
       "</table>\n",
       "<p>150018 rows × 6 columns</p>\n",
       "</div>"
      ],
      "text/plain": [
       "                         Datetime             Tweet Id  \\\n",
       "0       2022-01-25 10:48:11+00:00  1485927475142328320   \n",
       "1       2021-12-16 06:49:37+00:00  1471371921732165632   \n",
       "2       2021-12-16 05:10:02+00:00  1471346859578773506   \n",
       "3       2021-11-09 09:16:19+00:00  1458000489774129154   \n",
       "4       2021-11-03 15:07:39+00:00  1455914579104391175   \n",
       "...                           ...                  ...   \n",
       "150013  2009-06-24 20:42:17+00:00           2315975863   \n",
       "150014  2019-08-02 19:58:33+00:00  1157380185282379776   \n",
       "150015  2017-09-15 11:00:43+00:00   908646757160116224   \n",
       "150016  2015-09-13 14:20:37+00:00   643066758652383232   \n",
       "150017  2013-07-08 14:18:54+00:00   354243195636420610   \n",
       "\n",
       "                                                     Text Language  \\\n",
       "0       A new sustainability initiative for the fashio...       en   \n",
       "1       @adidas and @Allbirds have announced the first...       en   \n",
       "2       Nice feature @adidas\n",
       "#emissions #carbonfootpri...       en   \n",
       "3       At #CIIE2021 held in Shanghai, a running shoe ...       en   \n",
       "4       Support now: https://t.co/W9OXThIorN\n",
       "SUPEREART...       en   \n",
       "...                                                   ...      ...   \n",
       "150013  Court allows mining companies to dump waste di...       en   \n",
       "150014  Prepare for #halloween with these \"October Rea...       en   \n",
       "150015  It's an omen! First song #foofighters  new alb...       en   \n",
       "150016  Could this be the year #SlowFashion goes mains...       en   \n",
       "150017  RT @byronesque_gill: #slowfashion: New #vintag...       en   \n",
       "\n",
       "               Username                                           hashtags  \n",
       "0          TextileValue                     ['carbonfootprint', 'fashion']  \n",
       "1         fibre2fashion  ['carbonfootprint', 'adidas', 'allbirds', 'car...  \n",
       "2         Piper_Darling                   ['emissions', 'carbonfootprint']  \n",
       "3            na2eastday  ['CIIE2021', 'adidas', 'lowcarbon', 'carbonfoo...  \n",
       "4          MisterDotDot  ['adidas', 'carbonfootprint', 'saveEarth', 'ca...  \n",
       "...                 ...                                                ...  \n",
       "150013            mvxzw  ['eco', 'green', 'news', 'politics', 'supremec...  \n",
       "150014  GoodOmenApparel  ['halloween', 'environmentallyfriendly', 'grap...  \n",
       "150015  Londondenimnews                     ['foofighters', 'slowfashion']  \n",
       "150016  FairtradeMarkUS                                    ['SlowFashion']  \n",
       "150017          OMEN_PR                         ['slowfashion', 'vintage']  \n",
       "\n",
       "[150018 rows x 6 columns]"
      ]
     },
     "execution_count": 17,
     "metadata": {},
     "output_type": "execute_result"
    }
   ],
   "source": [
    "tweets_filtered"
   ]
  },
  {
   "cell_type": "code",
   "execution_count": 18,
   "metadata": {
    "id": "hHyc_WrGt5Tj"
   },
   "outputs": [],
   "source": [
    "unique_hashtags = {}\n",
    "\n",
    "tweets_filtered[\"hashtags\"] = \"\"\n",
    "\n",
    "for idx, row in tweets_filtered.iterrows():\n",
    "  hashtag_list = []\n",
    "  for hashtag in row[\"hashtags\"]:\n",
    "    unique_hashtags.setdefault(\"#\"+hashtag[\"text\"], 0)\n",
    "    unique_hashtags['#'+hashtag[\"text\"]] += 1\n",
    "    hashtag_list.append(hashtag[\"text\"])\n",
    "  tweets_filtered.at[idx,\"hashtags\"] = hashtag_list\n"
   ]
  },
  {
   "cell_type": "code",
   "execution_count": 20,
   "metadata": {},
   "outputs": [
    {
     "data": {
      "text/plain": [
       "{}"
      ]
     },
     "execution_count": 20,
     "metadata": {},
     "output_type": "execute_result"
    }
   ],
   "source": [
    "unique_hashtags"
   ]
  },
  {
   "cell_type": "code",
   "execution_count": 19,
   "metadata": {
    "id": "uCb7arJqUXOu"
   },
   "outputs": [
    {
     "ename": "KeyError",
     "evalue": "'Count'",
     "output_type": "error",
     "traceback": [
      "\u001b[0;31m---------------------------------------------------------------------------\u001b[0m",
      "\u001b[0;31mKeyError\u001b[0m                                  Traceback (most recent call last)",
      "\u001b[0;32m/tmp/ipykernel_6125/700364201.py\u001b[0m in \u001b[0;36m<module>\u001b[0;34m\u001b[0m\n\u001b[1;32m      1\u001b[0m \u001b[0muh_df\u001b[0m \u001b[0;34m=\u001b[0m \u001b[0mpd\u001b[0m\u001b[0;34m.\u001b[0m\u001b[0mDataFrame\u001b[0m\u001b[0;34m.\u001b[0m\u001b[0mfrom_dict\u001b[0m\u001b[0;34m(\u001b[0m\u001b[0munique_hashtags\u001b[0m\u001b[0;34m,\u001b[0m \u001b[0morient\u001b[0m\u001b[0;34m=\u001b[0m\u001b[0;34m'index'\u001b[0m\u001b[0;34m)\u001b[0m\u001b[0;34m.\u001b[0m\u001b[0mreset_index\u001b[0m\u001b[0;34m(\u001b[0m\u001b[0;34m)\u001b[0m\u001b[0;34m\u001b[0m\u001b[0;34m\u001b[0m\u001b[0m\n\u001b[1;32m      2\u001b[0m \u001b[0muh_df\u001b[0m\u001b[0;34m.\u001b[0m\u001b[0mrename\u001b[0m\u001b[0;34m(\u001b[0m\u001b[0mcolumns\u001b[0m \u001b[0;34m=\u001b[0m \u001b[0;34m{\u001b[0m\u001b[0;34m'index'\u001b[0m\u001b[0;34m:\u001b[0m\u001b[0;34m'Hashtag'\u001b[0m\u001b[0;34m,\u001b[0m \u001b[0;36m0\u001b[0m\u001b[0;34m:\u001b[0m\u001b[0;34m'Count'\u001b[0m\u001b[0;34m}\u001b[0m\u001b[0;34m,\u001b[0m \u001b[0minplace\u001b[0m\u001b[0;34m=\u001b[0m\u001b[0;32mTrue\u001b[0m\u001b[0;34m)\u001b[0m\u001b[0;34m\u001b[0m\u001b[0;34m\u001b[0m\u001b[0m\n\u001b[0;32m----> 3\u001b[0;31m \u001b[0muh_df\u001b[0m\u001b[0;34m.\u001b[0m\u001b[0msort_values\u001b[0m\u001b[0;34m(\u001b[0m\u001b[0mby\u001b[0m\u001b[0;34m=\u001b[0m\u001b[0;34m[\u001b[0m\u001b[0;34m'Count'\u001b[0m\u001b[0;34m]\u001b[0m\u001b[0;34m,\u001b[0m \u001b[0mascending\u001b[0m\u001b[0;34m=\u001b[0m\u001b[0;32mFalse\u001b[0m\u001b[0;34m,\u001b[0m \u001b[0minplace\u001b[0m\u001b[0;34m=\u001b[0m\u001b[0;32mTrue\u001b[0m\u001b[0;34m)\u001b[0m\u001b[0;34m\u001b[0m\u001b[0;34m\u001b[0m\u001b[0m\n\u001b[0m\u001b[1;32m      4\u001b[0m \u001b[0muh_df\u001b[0m\u001b[0;34m=\u001b[0m\u001b[0muh_df\u001b[0m\u001b[0;34m.\u001b[0m\u001b[0mreset_index\u001b[0m\u001b[0;34m(\u001b[0m\u001b[0;34m)\u001b[0m\u001b[0;34m.\u001b[0m\u001b[0mdrop\u001b[0m\u001b[0;34m(\u001b[0m\u001b[0;34m[\u001b[0m\u001b[0;34m\"index\"\u001b[0m\u001b[0;34m]\u001b[0m\u001b[0;34m,\u001b[0m \u001b[0maxis\u001b[0m\u001b[0;34m=\u001b[0m\u001b[0;36m1\u001b[0m\u001b[0;34m)\u001b[0m\u001b[0;34m\u001b[0m\u001b[0;34m\u001b[0m\u001b[0m\n",
      "\u001b[0;32m~/anaconda3/envs/NETWORK_S/lib/python3.10/site-packages/pandas/util/_decorators.py\u001b[0m in \u001b[0;36mwrapper\u001b[0;34m(*args, **kwargs)\u001b[0m\n\u001b[1;32m    309\u001b[0m                     \u001b[0mstacklevel\u001b[0m\u001b[0;34m=\u001b[0m\u001b[0mstacklevel\u001b[0m\u001b[0;34m,\u001b[0m\u001b[0;34m\u001b[0m\u001b[0;34m\u001b[0m\u001b[0m\n\u001b[1;32m    310\u001b[0m                 )\n\u001b[0;32m--> 311\u001b[0;31m             \u001b[0;32mreturn\u001b[0m \u001b[0mfunc\u001b[0m\u001b[0;34m(\u001b[0m\u001b[0;34m*\u001b[0m\u001b[0margs\u001b[0m\u001b[0;34m,\u001b[0m \u001b[0;34m**\u001b[0m\u001b[0mkwargs\u001b[0m\u001b[0;34m)\u001b[0m\u001b[0;34m\u001b[0m\u001b[0;34m\u001b[0m\u001b[0m\n\u001b[0m\u001b[1;32m    312\u001b[0m \u001b[0;34m\u001b[0m\u001b[0m\n\u001b[1;32m    313\u001b[0m         \u001b[0;32mreturn\u001b[0m \u001b[0mwrapper\u001b[0m\u001b[0;34m\u001b[0m\u001b[0;34m\u001b[0m\u001b[0m\n",
      "\u001b[0;32m~/anaconda3/envs/NETWORK_S/lib/python3.10/site-packages/pandas/core/frame.py\u001b[0m in \u001b[0;36msort_values\u001b[0;34m(self, by, axis, ascending, inplace, kind, na_position, ignore_index, key)\u001b[0m\n\u001b[1;32m   6257\u001b[0m \u001b[0;34m\u001b[0m\u001b[0m\n\u001b[1;32m   6258\u001b[0m             \u001b[0mby\u001b[0m \u001b[0;34m=\u001b[0m \u001b[0mby\u001b[0m\u001b[0;34m[\u001b[0m\u001b[0;36m0\u001b[0m\u001b[0;34m]\u001b[0m\u001b[0;34m\u001b[0m\u001b[0;34m\u001b[0m\u001b[0m\n\u001b[0;32m-> 6259\u001b[0;31m             \u001b[0mk\u001b[0m \u001b[0;34m=\u001b[0m \u001b[0mself\u001b[0m\u001b[0;34m.\u001b[0m\u001b[0m_get_label_or_level_values\u001b[0m\u001b[0;34m(\u001b[0m\u001b[0mby\u001b[0m\u001b[0;34m,\u001b[0m \u001b[0maxis\u001b[0m\u001b[0;34m=\u001b[0m\u001b[0maxis\u001b[0m\u001b[0;34m)\u001b[0m\u001b[0;34m\u001b[0m\u001b[0;34m\u001b[0m\u001b[0m\n\u001b[0m\u001b[1;32m   6260\u001b[0m \u001b[0;34m\u001b[0m\u001b[0m\n\u001b[1;32m   6261\u001b[0m             \u001b[0;31m# need to rewrap column in Series to apply key function\u001b[0m\u001b[0;34m\u001b[0m\u001b[0;34m\u001b[0m\u001b[0m\n",
      "\u001b[0;32m~/anaconda3/envs/NETWORK_S/lib/python3.10/site-packages/pandas/core/generic.py\u001b[0m in \u001b[0;36m_get_label_or_level_values\u001b[0;34m(self, key, axis)\u001b[0m\n\u001b[1;32m   1777\u001b[0m             \u001b[0mvalues\u001b[0m \u001b[0;34m=\u001b[0m \u001b[0mself\u001b[0m\u001b[0;34m.\u001b[0m\u001b[0maxes\u001b[0m\u001b[0;34m[\u001b[0m\u001b[0maxis\u001b[0m\u001b[0;34m]\u001b[0m\u001b[0;34m.\u001b[0m\u001b[0mget_level_values\u001b[0m\u001b[0;34m(\u001b[0m\u001b[0mkey\u001b[0m\u001b[0;34m)\u001b[0m\u001b[0;34m.\u001b[0m\u001b[0m_values\u001b[0m\u001b[0;34m\u001b[0m\u001b[0;34m\u001b[0m\u001b[0m\n\u001b[1;32m   1778\u001b[0m         \u001b[0;32melse\u001b[0m\u001b[0;34m:\u001b[0m\u001b[0;34m\u001b[0m\u001b[0;34m\u001b[0m\u001b[0m\n\u001b[0;32m-> 1779\u001b[0;31m             \u001b[0;32mraise\u001b[0m \u001b[0mKeyError\u001b[0m\u001b[0;34m(\u001b[0m\u001b[0mkey\u001b[0m\u001b[0;34m)\u001b[0m\u001b[0;34m\u001b[0m\u001b[0;34m\u001b[0m\u001b[0m\n\u001b[0m\u001b[1;32m   1780\u001b[0m \u001b[0;34m\u001b[0m\u001b[0m\n\u001b[1;32m   1781\u001b[0m         \u001b[0;31m# Check for duplicates\u001b[0m\u001b[0;34m\u001b[0m\u001b[0;34m\u001b[0m\u001b[0m\n",
      "\u001b[0;31mKeyError\u001b[0m: 'Count'"
     ]
    }
   ],
   "source": [
    "uh_df = pd.DataFrame.from_dict(unique_hashtags, orient='index').reset_index()\n",
    "uh_df.rename(columns = {'index':'Hashtag', 0:'Count'}, inplace=True)\n",
    "uh_df.sort_values(by=['Count'], ascending=False, inplace=True)\n",
    "uh_df=uh_df.reset_index().drop([\"index\"], axis=1)\n"
   ]
  },
  {
   "cell_type": "code",
   "execution_count": 143,
   "metadata": {
    "id": "31Ydx_RbWSGc"
   },
   "outputs": [
    {
     "data": {
      "text/html": [
       "<div>\n",
       "<style scoped>\n",
       "    .dataframe tbody tr th:only-of-type {\n",
       "        vertical-align: middle;\n",
       "    }\n",
       "\n",
       "    .dataframe tbody tr th {\n",
       "        vertical-align: top;\n",
       "    }\n",
       "\n",
       "    .dataframe thead th {\n",
       "        text-align: right;\n",
       "    }\n",
       "</style>\n",
       "<table border=\"1\" class=\"dataframe\">\n",
       "  <thead>\n",
       "    <tr style=\"text-align: right;\">\n",
       "      <th></th>\n",
       "      <th>Hashtag</th>\n",
       "    </tr>\n",
       "  </thead>\n",
       "  <tbody>\n",
       "  </tbody>\n",
       "</table>\n",
       "</div>"
      ],
      "text/plain": [
       "Empty DataFrame\n",
       "Columns: [Hashtag]\n",
       "Index: []"
      ]
     },
     "execution_count": 143,
     "metadata": {},
     "output_type": "execute_result"
    }
   ],
   "source": [
    "uh_df"
   ]
  },
  {
   "cell_type": "code",
   "execution_count": 52,
   "metadata": {},
   "outputs": [
    {
     "data": {
      "text/plain": [
       "Text(0.5, 1.0, 'top 10 words')"
      ]
     },
     "execution_count": 52,
     "metadata": {},
     "output_type": "execute_result"
    },
    {
     "data": {
      "image/png": "[encoded data removed]",
      "text/plain": [
       "<Figure size 1440x360 with 1 Axes>"
      ]
     },
     "metadata": {
      "needs_background": "light"
     },
     "output_type": "display_data"
    }
   ],
   "source": [
    "n = 10\n",
    "title= (f\"top {n} words\")\n",
    "bars = [uh_df.Hashtag[i] for i in range(1, n)]\n",
    "values = [uh_df.Count[i] for i in range(1, n)]\n",
    "    \n",
    "y = np.arange(n)\n",
    "    \n",
    "fig, ax = plt.subplots(figsize=(20, int(n*0.5)))\n",
    "    \n",
    "ax.grid(True, color = \"#C688EB\")\n",
    "ax.barh(bars, values, color = \"#6C7EE1\") \n",
    "ax.set_axisbelow(True)\n",
    "ax.xaxis.set_minor_locator(MultipleLocator(1000))\n",
    "ax.grid(True, \"minor\", linestyle=\"--\", color = \"#C688EB\")\n",
    "ax.set_title(title, fontdict = {'fontsize' : 20})\n"
   ]
  }
 ],
 "metadata": {
  "colab": {
   "collapsed_sections": [],
   "name": "Tweet API.ipynb",
   "provenance": []
  },
  "kernelspec": {
   "display_name": "Python 3 (ipykernel)",
   "language": "python",
   "name": "python3"
  },
  "language_info": {
   "codemirror_mode": {
    "name": "ipython",
    "version": 3
   },
   "file_extension": ".py",
   "mimetype": "text/x-python",
   "name": "python",
   "nbconvert_exporter": "python",
   "pygments_lexer": "ipython3",
   "version": "3.10.1"
  }
 },
 "nbformat": 4,
 "nbformat_minor": 4
}
